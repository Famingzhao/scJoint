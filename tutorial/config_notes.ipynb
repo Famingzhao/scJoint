{
 "cells": [
  {
   "cell_type": "markdown",
   "id": "af54433a",
   "metadata": {},
   "source": [
    "## Config.py settings for case studies in the paper\n",
    "\n",
    "|               | Mouse cell atlas | SNARE-seq | Multi-modal (Combined)| Multi-modal (Stim)| Multi-modal (Ctrl)|\n",
    "| ------------- |:----------------:| ---------:| ---------------------:| -----------------:| -----------------:|\n",
    "|batch_size     | 256  | 256  | 256  | 256  | 256  | \n",
    "|lr_stage1      | 0.01 | 0.01 | 0.01 | 0.01 | 0.01 | \n",
    "|lr_stage3      | 0.01 | 0.01 | 0.01 | 0.001| 0.01 | \n",
    "|epochs_stage1  | 10   | 10   | 20   | 20   | 20   | \n",
    "|epochs_stage3  | 10   | 10   | 20   | 20   | 20   | \n",
    "|p  | 0.8   | 0.8    | 0.8    | 0.8    | 0.8    | \n",
    "|embedding_size  | 64   | 64   | 64   | 64   | 64   | \n",
    "|momentum  | 0.9   | 0.9    | 0.9    | 0.9    | 0.9    | \n",
    "|center_weight  | 10   | 1    | 1    | 1    | 1    | \n",
    "\n",
    "Note: for Multi-modal (Combined) cases, we concatenated data from stimulation and control for input of scJoint, since stimulation and control represent two biological conditions, not technical batches."
   ]
  }
 ],
 "metadata": {
  "kernelspec": {
   "display_name": "Python 3",
   "language": "python",
   "name": "python3"
  },
  "language_info": {
   "codemirror_mode": {
    "name": "ipython",
    "version": 3
   },
   "file_extension": ".py",
   "mimetype": "text/x-python",
   "name": "python",
   "nbconvert_exporter": "python",
   "pygments_lexer": "ipython3",
   "version": "3.7.6"
  }
 },
 "nbformat": 4,
 "nbformat_minor": 5
}
